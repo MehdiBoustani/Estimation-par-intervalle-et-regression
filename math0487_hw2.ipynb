{
 "cells": [
  {
   "cell_type": "markdown",
   "id": "606f5c3f-ef21-4fa7-a1fd-a5cdf7c48415",
   "metadata": {},
   "source": [
    "<div class=\"alert alert-block alert-success\"> \n",
    "\n",
    "**Nom(s), Prénom(s) et matricule(s) :**\n",
    "\n",
    "</div>"
   ]
  },
  {
   "cell_type": "markdown",
   "id": "381c87a0-a4ff-4f54-89bb-16376fdad370",
   "metadata": {},
   "source": [
    "> VOTRE TEXTE ICI"
   ]
  },
  {
   "cell_type": "markdown",
   "id": "cb5d3314-9320-4c70-94a1-3da3e9e7e2c9",
   "metadata": {},
   "source": [
    "\n",
    "---"
   ]
  },
  {
   "cell_type": "markdown",
   "id": "0fe6f3f3-42e4-4ae3-8bfd-494023860c3e",
   "metadata": {},
   "source": [
    "#### **Instructions générales**"
   ]
  },
  {
   "cell_type": "markdown",
   "id": "85cbfefd-3336-4c7a-bd57-2111102ebb13",
   "metadata": {},
   "source": [
    "##### **Objectifs**"
   ]
  },
  {
   "cell_type": "markdown",
   "id": "148f44a3-4def-4b64-a447-a52a61fdbeac",
   "metadata": {},
   "source": [
    "Les objectifs de ce devoir sont les suivants : \n",
    "\n",
    "- estimer un intervalle de valeurs pour un paramètre à un niveau de confiance donné\n",
    "    - en faisant une approximation normale,\n",
    " \n",
    "    - en utilisant la méthode du *bootstrapping*,\n",
    "\n",
    "- estimer la valeur des paramètres d'une régression linéaire à partir de données réelles, analyser la qualité du modèle de régression et identifier ses potentiels défauts ou les hypothèses qui ne sont pas respectées, et réintroduire la notion de leverage,\n",
    "- appliquer un modèle de régression logistique sur des données réelles et analyser la qualité du modèle de régression logistique."
   ]
  },
  {
   "cell_type": "markdown",
   "id": "85c2e298-b978-4262-b01f-f46b11106db6",
   "metadata": {},
   "source": [
    "##### **Délivrables**"
   ]
  },
  {
   "cell_type": "markdown",
   "id": "dda94e0e-bc76-4963-bb53-9d4eedcc8130",
   "metadata": {},
   "source": [
    "Ce devoir doit être réalisé par groupe de 2 étudiants maximum. Chaque groupe doit\n",
    "rendre ce notebook complété, et **une version .pdf de ce notebook** qui sera utilisée pour la correction. \n",
    "\n",
    "La date limite de soumission est fixée au **20 décembre 2023 à 20h00**. Jusqu’à cette date, vous avez la possibilité de (re)soumettre votre rapport ou votre code autant de fois que vous le souhaitez. Au-delà de cette date, il ne sera plus possible de soumettre le devoir. N’attendez pas la dernière minute pour soumettre une première version de votre travail !"
   ]
  },
  {
   "cell_type": "markdown",
   "id": "7562ffd8-4f38-43a9-a913-7884743312b5",
   "metadata": {},
   "source": [
    "La soumission doit se faire sur la plateforme [Gradescope](https://www.gradescope.com/) directement. \n",
    "\n",
    "- Chaque étudiant doit s'inscrire sur [Gradescope](https://www.gradescope.com/) en utilisant son adresse `@student.uliege.be`. Si vous ne voyez pas le cours MATH0487 dans votre tableau de bord, contactez-nous sur [Ed](https://edstem.org/us/dashboard) au plus vite (n'attendez pas la veille de la date de soumission pour vérifier que vous avez accès au cours sur Gradescope ;- ).\n",
    "\n",
    "- Chaque groupe doit soumettre un seul fichier `.ipynb` et un seul fichier `.pdf` sur [Gradescope](https://www.gradescope.com/). Toutes les cellules doivent être exécutables et leurs sorties ne doivent pas être effacées avant la soumission. Assurez-vous que tous les membres du groupe sont correctement ajoutés à la soumission !\n",
    "\n",
    "- N'oubliez pas d'assigner les pages de votre pdf aux questions sur Gradescope !\n",
    "\n",
    "Si vous n'êtes pas familiers avec Gradescope, vous trouverez des explications sur chaque étape de la soumission ci-dessous :\n",
    "\n",
    "- [Soumission de pdf](https://help.gradescope.com/article/ccbpppziu9-student-submit-work#submitting_a_pdf),\n",
    "- [Soumission de code](https://help.gradescope.com/article/ccbpppziu9-student-submit-work#code_submissions),\n",
    "- [Ajout de membres de groupe](https://help.gradescope.com/article/m5qz2xsnjy-student-add-group-members).\n",
    "\n",
    "Pour convertir votre notebook en pdf, nous conseillons l'utilisation de [nbconverter](https://nbconvert.readthedocs.io/en/latest/). Cet outil est également utilisé par JupyterLab pour l'exportation de notebooks."
   ]
  },
  {
   "cell_type": "markdown",
   "id": "004fb3c4-2664-4d0d-8d72-fc51d4aab59f",
   "metadata": {},
   "source": [
    "***Remarques importantes*** sur l'utilisation de ce notebook :\n",
    "\n",
    "- Ne modifiez et ne supprimez pas de cellules (Markdown) contenant des consignes/questions.\n",
    "- Les cellules demandant une réponse sous forme de texte ou sous forme de code sont colorées en vert, <div class=\"alert alert-block alert-success\">  comme ceci. </div>\n",
    "- Remplissez uniquement les cellules prévues à cet effet :\n",
    "    - ```python\n",
    "        \"\"\"VOTRE CODE\"\"\"\n",
    "        ```\n",
    "        indique une portion réservée à votre code, et\n",
    "    - > VOTRE TEXTE ICI\n",
    "      \n",
    "        indique une portion réservée à une réponse écrite.\n",
    "    N'en créez pas de nouvelles.\n",
    "- Respectez le type de cellule prévu pour une question donnée: certaines questions demandent d'implémenter du code (cellules \"Code\", en Python) et de présenter des résultats (valeurs numériques, tables, graphes, ...), et d'autres vous demandent de fournir une réponse utilisant du texte (cellules \"Markdown\", incluant certaines commandes LaTeX et acceptant la syntaxe HTML).\n",
    "- Lorsque vous présentez un graphique, n'oubliez pas d'indiquer un titre et / ou des noms pour les axes. Lorsque cela est nécessaire, affichez également la légende.\n",
    "- Un exemple de cellule Markdown comprenant des commandes LaTex est donné ci-dessous :"
   ]
  },
  {
   "cell_type": "markdown",
   "id": "a428edd9-e66b-4497-b9f1-a977cf3ab556",
   "metadata": {},
   "source": [
    "*début de l'exemple*\n",
    "\n",
    "Ceci est un *exemple* de cellule de texte **Markdown**. Double-cliquez dessus pour voir le texte brut.\n",
    "\n",
    "Vous pouvez utilisez certaines commandes LaTeX comme $\\sin(x)$ ou $\\alpha$. Il est possible d'écrire des équations comme\n",
    "$$ \\beta \\dot{y} = 3 x$$\n",
    "\n",
    "ou encore\n",
    "\\begin{equation}\n",
    "\\begin{aligned}\n",
    "\\beta \\dot{y} &= 3 x \\\\\n",
    "\\gamma \\dot{x} &= 4 y.\n",
    "\\end{aligned}\n",
    "\\end{equation}\n",
    "\n",
    "Des listes sont également disponibles :\n",
    "\n",
    "- élément 1\n",
    "- élément 2\n",
    "- ...\n",
    "\n",
    "ou \n",
    "\n",
    "* élément 1\n",
    "* élément 2\n",
    "* ...\n",
    "\n",
    "N'hésitez pas à vous renseigner sur la syntaxe Markdown si vous avez besoin d'autres éléments (*e.g.* construire des tables).\n",
    "\n",
    "*fin de l'exemple*"
   ]
  },
  {
   "cell_type": "markdown",
   "id": "d89cd1d2-8965-4a1b-b853-b8b1627f2b0c",
   "metadata": {},
   "source": [
    "- Enfin, veillez à toujours présenter vos résultats en sortie de cellule quand cela est nécessaire (figures, valeurs numériques, etc.). **Une cellule non exécutée ou dont les valeurs calculées et demandées ne sont pas affichées sera considérée comme non implémentée.**\n",
    "\n",
    "Si vous rencontrez des problèmes ou avez des questions concernant ces remarques, merci de contacter l'équipe pédagogique *via* le forum de [Ed Discussion](https://edstem.org/us/courses/29547/discussion/1795956)."
   ]
  },
  {
   "cell_type": "markdown",
   "id": "10120776-b272-4ade-9759-4ddee03c6c55",
   "metadata": {},
   "source": [
    "##### **Questions**"
   ]
  },
  {
   "cell_type": "markdown",
   "id": "38bb943c-64a6-4a01-84ba-b28b68b28c87",
   "metadata": {},
   "source": [
    "Toutes vos questions sur le devoir (y compris sur l'utilisation de Python ou de Jupyter) doivent être postées dans le forum de [Ed Discussion](https://edstem.org/us/courses/29547/discussion/1795956) du\n",
    "cours sous la catégorie *Assignments/Homework* (une question par fil de discussion). "
   ]
  },
  {
   "cell_type": "markdown",
   "id": "9f2c9180-9934-4f53-b364-59a83b23263f",
   "metadata": {},
   "source": [
    "##### **Politique de collaboration**"
   ]
  },
  {
   "cell_type": "markdown",
   "id": "0379f38a-9304-4ed8-8afc-f2c46b8da38f",
   "metadata": {},
   "source": [
    "Vous pouvez discuter du devoir avec d’autres groupes, mais *vous devez\n",
    "écrire vous-même vos propres solutions, et écrire et exécuter vous-même votre propre code*. Copier la\n",
    "solution de quelqu’un d’autre, ou simplement apporter des modifications triviales pour ne pas copier\n",
    "textuellement, n’est pas acceptable."
   ]
  },
  {
   "cell_type": "markdown",
   "id": "05178d42-f4f7-4dd3-b3ce-fce02fb7228b",
   "metadata": {},
   "source": [
    "---"
   ]
  },
  {
   "cell_type": "markdown",
   "id": "d48aea11-d13a-4712-b070-e6c9ecae875b",
   "metadata": {},
   "source": [
    "##### **Présentation du problème**"
   ]
  },
  {
   "cell_type": "markdown",
   "id": "7aa247c9-6f66-4d8e-8f5f-d1e978061629",
   "metadata": {},
   "source": [
    "À l'occasion de ce second projet, l'équipe de MATH0487 a décidé de lever les yeux vers le ciel, et plus précisément en direction des étoiles. Ce projet porte sur l'estimation par intervalle et la régression (linéaire et logistique), en utilisant des données obtenues grâce à la technique de la parallaxe.\n",
    "\n",
    "Les astronomes utilisent la méthode de la parallaxe pour calculer la distance des corps célestes situés à une distance modérée de la Terre. Cette méthode consiste à observer les angles de vue depuis deux points distincts, séparés par une distance connue, afin de déterminer la distance d'un astre. Ainsi, plus l'angle de parallaxe est petit, plus l'astre est éloigné.\n",
    "\n",
    "Des explications plus détaillées et diverses illustrations sont disponibles sur [Wikipedia](https://fr.wikipedia.org/wiki/Parallaxe).\n",
    "\n",
    "L'ensemble des données peut à nouveau être chargé depuis le fichier ```data_math0487.csv``` de l'archive fournie."
   ]
  },
  {
   "cell_type": "code",
   "execution_count": 1,
   "id": "673041a6-b460-4ed0-9fb4-3e0d1f0037b8",
   "metadata": {},
   "outputs": [],
   "source": [
    "# ces librairies devraient suffire à réaliser ce second devoir, vous pouvez évidemment en utiliser d'autres (à importer dans cette cellule).\n",
    "import pandas as pd\n",
    "import numpy as np\n",
    "import matplotlib.pyplot as plt\n",
    "import scipy.stats as stats\n",
    "from sklearn.linear_model import LinearRegression, LogisticRegression\n",
    "from sklearn.inspection import DecisionBoundaryDisplay"
   ]
  },
  {
   "cell_type": "code",
   "execution_count": 2,
   "id": "01fe3404",
   "metadata": {},
   "outputs": [],
   "source": [
    "#from functions import *       # Vous pouvez soit importer toutes vos fonctions, les réécrire dans cette cellule ou coder sans les fonctions dans les cellules ci-dessous.\n"
   ]
  },
  {
   "cell_type": "markdown",
   "id": "673e2b7d-fe78-49ce-849e-fbb9d723df52",
   "metadata": {},
   "source": [
    "##### **Importation des données**"
   ]
  },
  {
   "cell_type": "code",
   "execution_count": 3,
   "id": "3da25ffe-d7b0-4ea0-9e96-6787ba9a58aa",
   "metadata": {},
   "outputs": [
    {
     "data": {
      "text/html": [
       "<div>\n",
       "<style scoped>\n",
       "    .dataframe tbody tr th:only-of-type {\n",
       "        vertical-align: middle;\n",
       "    }\n",
       "\n",
       "    .dataframe tbody tr th {\n",
       "        vertical-align: top;\n",
       "    }\n",
       "\n",
       "    .dataframe thead th {\n",
       "        text-align: right;\n",
       "    }\n",
       "</style>\n",
       "<table border=\"1\" class=\"dataframe\">\n",
       "  <thead>\n",
       "    <tr style=\"text-align: right;\">\n",
       "      <th></th>\n",
       "      <th>Vmag</th>\n",
       "      <th>Plx</th>\n",
       "      <th>B-V</th>\n",
       "      <th>Amag</th>\n",
       "      <th>TargetClass</th>\n",
       "    </tr>\n",
       "  </thead>\n",
       "  <tbody>\n",
       "    <tr>\n",
       "      <th>0</th>\n",
       "      <td>5.99</td>\n",
       "      <td>13.592265</td>\n",
       "      <td>1.318</td>\n",
       "      <td>16.678352</td>\n",
       "      <td>0</td>\n",
       "    </tr>\n",
       "    <tr>\n",
       "      <th>1</th>\n",
       "      <td>8.70</td>\n",
       "      <td>2.196457</td>\n",
       "      <td>-0.045</td>\n",
       "      <td>15.518060</td>\n",
       "      <td>0</td>\n",
       "    </tr>\n",
       "    <tr>\n",
       "      <th>2</th>\n",
       "      <td>5.77</td>\n",
       "      <td>5.802407</td>\n",
       "      <td>0.855</td>\n",
       "      <td>14.471813</td>\n",
       "      <td>0</td>\n",
       "    </tr>\n",
       "    <tr>\n",
       "      <th>3</th>\n",
       "      <td>6.72</td>\n",
       "      <td>5.989588</td>\n",
       "      <td>-0.015</td>\n",
       "      <td>15.324928</td>\n",
       "      <td>1</td>\n",
       "    </tr>\n",
       "    <tr>\n",
       "      <th>4</th>\n",
       "      <td>8.76</td>\n",
       "      <td>14.067170</td>\n",
       "      <td>0.584</td>\n",
       "      <td>19.401997</td>\n",
       "      <td>1</td>\n",
       "    </tr>\n",
       "  </tbody>\n",
       "</table>\n",
       "</div>"
      ],
      "text/plain": [
       "   Vmag        Plx    B-V       Amag  TargetClass\n",
       "0  5.99  13.592265  1.318  16.678352            0\n",
       "1  8.70   2.196457 -0.045  15.518060            0\n",
       "2  5.77   5.802407  0.855  14.471813            0\n",
       "3  6.72   5.989588 -0.015  15.324928            1\n",
       "4  8.76  14.067170  0.584  19.401997            1"
      ]
     },
     "execution_count": 3,
     "metadata": {},
     "output_type": "execute_result"
    }
   ],
   "source": [
    "data = pd.read_csv('data_math0487.csv')\n",
    "data.head(5)"
   ]
  },
  {
   "cell_type": "markdown",
   "id": "825784b0-b164-4f88-a1f2-eb290310e643",
   "metadata": {},
   "source": [
    "---"
   ]
  },
  {
   "cell_type": "markdown",
   "id": "044dd932",
   "metadata": {},
   "source": [
    "Le dataset fourni est structuré de la manière suivante :\n",
    "- `Vmag` : la magnitude apparente de l'étoile en question,\n",
    "- `Plx` : angle de la parallaxe,\n",
    "- `B-V` : Indice de couleur de l'étoile,\n",
    "- `Amag` : la magnitude absolue de l'étoile,\n",
    "- `Target Class` : booléen caractérisant une étoile en tant que naine ou géante."
   ]
  },
  {
   "cell_type": "markdown",
   "id": "f84e2ac1",
   "metadata": {},
   "source": [
    "Dans la pratique, les observations fournies par les appareils de mesure ne sont jamais parfaites : il y a toujours du bruit. Dans ce contexte, la source principale du bruit provient de la parallaxe. (*Indice* : cela pourrait vous aider à interpréter vos résultats par la suite :). )"
   ]
  },
  {
   "cell_type": "markdown",
   "id": "9f074bae",
   "metadata": {},
   "source": [
    "# Estimation par intervalle\n",
    "\n",
    "Dans cette première partie du devoir, vous allez tenter d'estimer un intervalle de valeurs possibles pour un paramètre que l'on cherche à estimer. Pour rappel, vous allez ainsi pouvoir quantifier l'incertitude de notre estimateur, au lieu de produire une seule estimation comme lors du premier devoir.\n",
    "\n",
    "Vous allez étudier la magnitude apparente des étoiles $Vmag$ dans cette première section. En particulier, il vous est demandé de construire un intervalle de confiance au niveau de confiance $1-\\alpha=0.95$ pour la moyenne de cette variable et ce, de deux manières différentes.\n"
   ]
  },
  {
   "cell_type": "markdown",
   "id": "6b3262fa",
   "metadata": {},
   "source": [
    "## Approximation Normale\n",
    "\n",
    "Vous allez ici construire un intervalle de confiance *approximé*. En effet, il vous est demandé de faire une approximation Normale, *i.e.* de considérer que la distribution de l'estimateur considéré est approximativement Normale.\n",
    "\n",
    "Sans hypothèse quant à la distribution de $Vmag$ dans la population, une telle approximation ne peut cependant être faite qu'à certaine(s) condition(s). On suppose les données d'échantillons indépendantes et identiquement distribuées.\n",
    "\n",
    "<div class=\"alert alert-block alert-success\">\n",
    "\n",
    "Quelle(s) condition(s) doive(nt) être remplie(s) ? Quel théorème cette(ces) condition(s) permet(tent)-elle(s) d'appliquer ?\n",
    "\n",
    "</div>"
   ]
  },
  {
   "cell_type": "markdown",
   "id": "86e34cb4",
   "metadata": {},
   "source": [
    "> ..."
   ]
  },
  {
   "cell_type": "markdown",
   "id": "65cfa76b",
   "metadata": {},
   "source": [
    "<div class=\"alert alert-block alert-success\">\n",
    "    \n",
    "Affichez la taille de votre échantillon.\n",
    "\n",
    "</div>"
   ]
  },
  {
   "cell_type": "code",
   "execution_count": null,
   "id": "81f747f1",
   "metadata": {},
   "outputs": [],
   "source": []
  },
  {
   "cell_type": "markdown",
   "id": "b78a7948",
   "metadata": {},
   "source": [
    "<div class=\"alert alert-block alert-success\">\n",
    "    \n",
    "Ensuite, générez l'histogramme de cette variable dans l'échantillon.\n",
    "\n",
    "</div>"
   ]
  },
  {
   "cell_type": "code",
   "execution_count": null,
   "id": "f7298c96",
   "metadata": {},
   "outputs": [],
   "source": []
  },
  {
   "cell_type": "markdown",
   "id": "49149650",
   "metadata": {},
   "source": [
    "<div class=\"alert alert-block alert-success\">\n",
    "\n",
    "Au vu de l'histogramme généré à partir des données récoltées, la condition précédemment énoncée pour l'hypothèse Normale était-elle indispensable ? Expliquez.\n",
    "\n",
    "</div>"
   ]
  },
  {
   "cell_type": "markdown",
   "id": "74717a27",
   "metadata": {},
   "source": [
    "> ..."
   ]
  },
  {
   "cell_type": "markdown",
   "id": "5ca33318",
   "metadata": {},
   "source": [
    "<div class=\"alert alert-block alert-success\">\n",
    "\n",
    "Calculez à présent l'intervalle de confiance pour la magnitude apparente moyenne au niveau de confiance demandé pour votre échantillon.\n",
    "\n",
    "</div>"
   ]
  },
  {
   "cell_type": "code",
   "execution_count": null,
   "id": "d4a61ad1",
   "metadata": {},
   "outputs": [],
   "source": []
  },
  {
   "cell_type": "markdown",
   "id": "a3d4eef4",
   "metadata": {},
   "source": [
    "<div class=\"alert alert-block alert-success\">\n",
    "\n",
    "Calculez maintenant des intervalles de confiance pour la magnitude apparente moyenne aux niveaux $1-\\alpha \\in [0.50, 0.51, 0.52, \\ldots 0.97, 0.98, 0.99]$. Représentez l'évolution des bornes de ces intervalles en fonction de $1-\\alpha$ sur un graphe.\n",
    "\n",
    "</div>"
   ]
  },
  {
   "cell_type": "code",
   "execution_count": null,
   "id": "32b8a25e",
   "metadata": {},
   "outputs": [],
   "source": []
  },
  {
   "cell_type": "markdown",
   "id": "fd26c5fe",
   "metadata": {},
   "source": [
    "<div class=\"alert alert-block alert-success\">\n",
    "\n",
    "Qu'observez-vous lorsque l'on augmente (resp. diminue) le niveau de confiance $1-\\alpha$ ? Interprétez.\n",
    "\n",
    "</div>"
   ]
  },
  {
   "cell_type": "markdown",
   "id": "67241663",
   "metadata": {},
   "source": [
    "> ..."
   ]
  },
  {
   "cell_type": "markdown",
   "id": "ec905810",
   "metadata": {},
   "source": [
    "## Bootstrapping\n",
    "\n",
    "Vous allez à présent construire un intervalle en utilisant une autre méthode que la précédente : le *bootstrapping*.\n",
    "\n",
    "<div class=\"alert alert-block alert-success\">\n",
    "\n",
    "Premièrement, de manière générique, donnez *toutes* les différentes étapes de la méthode du *bootstrapping* pour construire un intervalle de confiance au niveau de confiance $1-\\alpha$ pour un paramètre $\\theta$ à partir d'un échantillon de taille $n$, avec un nombre d'échantillons bootstrap $m$, et en utilisant la méthode du percentile.\n",
    "\n",
    "</div>"
   ]
  },
  {
   "cell_type": "markdown",
   "id": "942d3f97",
   "metadata": {},
   "source": [
    "> ..."
   ]
  },
  {
   "cell_type": "markdown",
   "id": "e3ab8e71",
   "metadata": {},
   "source": [
    "<div class=\"alert alert-block alert-success\">\n",
    "\n",
    "Calculez un tel intervalle au niveau de confiance précisé plus tôt pour la magnitude apparente moyenne, avec un nombre d'échantillons bootstrap $m=1000$.\n",
    "\n",
    "</div>\n"
   ]
  },
  {
   "cell_type": "code",
   "execution_count": null,
   "id": "8c2fed2b",
   "metadata": {},
   "outputs": [],
   "source": []
  },
  {
   "cell_type": "markdown",
   "id": "5e9f0b13",
   "metadata": {},
   "source": [
    "<div class=\"alert alert-block alert-success\">\n",
    "\n",
    "Générez l'histogramme des valeurs de l'estimateur pour vos échantillons bootstrap. Superposez à cet histogramme deux droites verticales afin de représenter les bornes de l'intervalle construit ci-avant.\n",
    "\n",
    "</div>"
   ]
  },
  {
   "cell_type": "code",
   "execution_count": null,
   "id": "f8a65daf",
   "metadata": {},
   "outputs": [],
   "source": []
  },
  {
   "cell_type": "markdown",
   "id": "d04edea8-bea0-40ca-a98c-8722ed3c65c3",
   "metadata": {},
   "source": [
    "# Régression linéaire, qualité de l'estimation, résidus de régression et leverage score"
   ]
  },
  {
   "cell_type": "markdown",
   "id": "7ff493ad",
   "metadata": {},
   "source": [
    "Vous allez désormais étudier le concept de régression linéaire prédictive avec les données de votre échantillon. Lorsqu'il vous est demandé d'estimer les paramètres d'un modèle de régression, vous pouvez utiliser la librairie *scikit-learn*.\n",
    "\n",
    "\n",
    "Pour rappel, un modèle de regression linéaire peut être écrit sous la forme $$E(Z \\mid \\mathbf{X}=(x_1, \\ldots, x_k), (\\theta_0, \\theta_1, \\ldots \\theta_k)) = \\mu(\\mathbf{x} \\mid (\\theta_0, \\theta_1, \\ldots \\theta_k) ) = \\theta_0 + \\theta_1 x_1 + \\ldots + \\theta_k x_k,$$\n",
    "avec $Z$ la variable aléatoire d'observation, $\\mathbf{X}$ le vecteur $(X_1, \\ldots, X_k)$ de variables aléatoires prédictives et $(\\theta_0, \\theta_1, \\ldots \\theta_k)$ les paramètres ou coefficients de régression (avec $\\theta_0$ l'intercept)."
   ]
  },
  {
   "cell_type": "markdown",
   "id": "94e2ae83",
   "metadata": {},
   "source": [
    "Un ami astronome vous suggère de commencer par prédire la différence entre la magnitude absolue et la magnitude apparente (cette différence devient ainsi votre variable d'observation)."
   ]
  },
  {
   "cell_type": "markdown",
   "id": "573fb66a",
   "metadata": {},
   "source": [
    "<div class=\"alert alert-block alert-success\">\n",
    "\n",
    "Dans un premier temps, tentez de faire un modèle simple de régression linéaire en ne considérant uniquement que la variable prédictive : *l'angle de la parallaxe*. Ajustez également l'intercept. Affichez les coefficients de régression.\n",
    "\n",
    "</div>"
   ]
  },
  {
   "cell_type": "code",
   "execution_count": null,
   "id": "ffccd694",
   "metadata": {},
   "outputs": [],
   "source": []
  },
  {
   "cell_type": "markdown",
   "id": "63bf3085",
   "metadata": {},
   "source": [
    "<div class=\"alert alert-block alert-success\">\n",
    "\n",
    "Générez un nuage de point représentant les cristallisations de votre variable d'observation en fonction de votre variable prédictive. Sur le même graphique, représentez votre modèle de régression linéaire. Sur un autre graphique, montrez l'évolution de vos résidus par rapport à la variable prédictive.\n",
    "\n",
    "</div>"
   ]
  },
  {
   "cell_type": "code",
   "execution_count": null,
   "id": "95ef6e90",
   "metadata": {},
   "outputs": [],
   "source": []
  },
  {
   "cell_type": "markdown",
   "id": "62688e0f",
   "metadata": {},
   "source": [
    "<div class=\"alert alert-block alert-success\">\n",
    "\n",
    "Qu'observez-vous ? Le modèle a-t-il une capacité de représentation suffisante (c'est sa capacité à capturer la relation complexe entre la variable d'observation et la variable prédictive) ? Si non, quelles améliorations peuvent être introduites au vu de l'évolution des résidus ?\n",
    "\n",
    "</div>"
   ]
  },
  {
   "cell_type": "markdown",
   "id": "b0f14452",
   "metadata": {},
   "source": [
    "> ..."
   ]
  },
  {
   "cell_type": "markdown",
   "id": "a581689a",
   "metadata": {},
   "source": [
    "Désormais un de vos amis vous conseille de travailler avec le $\\log_{10}(Plx)$ à la place de $Plx$. On restera dans ce cadre jusqu'à la fin de la section sur la régression linéaire."
   ]
  },
  {
   "cell_type": "markdown",
   "id": "eeda5211",
   "metadata": {},
   "source": [
    "<div class=\"alert alert-block alert-success\">\n",
    "\n",
    "Générez un nuage de points représentant les valeurs de votre variable d'observation en fonction de votre nouvelle variable prédictive. Sur le même graphique, tracez le modèle de régression linéaire que vous venez d'obtenir avec cette nouvelle procédure. Comme précédemment, affichez également les résidus sur un autre graphe. Enfin, calculez et affichez le score $𝑅^2$ ainsi que la MSE du modèle en utilisant les données ayant servi à l'ajustement.\n",
    "\n",
    "</div>"
   ]
  },
  {
   "cell_type": "code",
   "execution_count": null,
   "id": "193e889e",
   "metadata": {},
   "outputs": [],
   "source": []
  },
  {
   "cell_type": "markdown",
   "id": "c7934ee9",
   "metadata": {},
   "source": [
    "<div class=\"alert alert-block alert-success\">\n",
    "\n",
    "Que pensez-vous de ce modèle ? Le protocole de calcul du coefficient *$R^2$* et de la *MSE* fournit-il une mesure fiable de la qualité du modèle lorsque ce dernier est appliqué à des variables prédictives nouvellement cristallisées, qui n'ont pas été utilisées lors de l'ajustement ?\n",
    "\n",
    "</div>\n"
   ]
  },
  {
   "cell_type": "markdown",
   "id": "13bfaba1",
   "metadata": {},
   "source": [
    "> ..."
   ]
  },
  {
   "cell_type": "markdown",
   "id": "edb01f42",
   "metadata": {},
   "source": [
    "<div class=\"alert alert-block alert-success\">\n",
    "\n",
    "Commentez le graphe des résidus. Une hypothèse de la régression linéaire est-elle rompue ? (Vous pouvez aussi tenter d'expliquer qualitativement pourquoi les résidus suivent cette forme.)\n",
    "\n",
    "</div>\n",
    "\n"
   ]
  },
  {
   "cell_type": "markdown",
   "id": "e2a3bd26",
   "metadata": {},
   "source": [
    "> ..."
   ]
  },
  {
   "cell_type": "markdown",
   "id": "8d34b01b",
   "metadata": {},
   "source": [
    "Il vous est désormais demandé d’étudier le leverage score des différentes cristallisations.\n",
    "\n",
    "Une manière d’obtenir le leverage score de la $j^{\\text{ème}}$ observation $\\mathbf{x}_j = (x_{j1}, x_{j2}, ..., x_{jK})$ est de revenir aux équations Normales de la régression.\n",
    "\n",
    "Dans le cadre de la régression linéaire, il existe une transformation linéaire reliant les cristallisations des variables d’observation aux valeurs prédites par le modèle. Plus précisément, on note :\n",
    "\n",
    "- $\\mathbf{X}$ : la matrice contenant les cristallisations des variables prédictives \n",
    "$$ \n",
    "\\mathbf{X} = \n",
    "\\begin{pmatrix} \n",
    "    1 & x_{11} & \\cdots & x_{1K} \\\\\n",
    "    1 & x_{21} & \\cdots & x_{2K} \\\\\n",
    "    \\vdots & \\vdots  & & \\vdots  \\\\\n",
    "    1 & x_{n1} & \\cdots & x_{nK} \\\\\n",
    "\\end{pmatrix} ,\n",
    "$$\n",
    "- $\\mathbf{y} = (y_1, \\ldots, y_n)^T$ : le vecteur des cristallisations des variables d’observation,\n",
    "- $n$ : le nombre total de cristallisations.\n",
    "\n",
    "Il est possible de construire un modèle de régression linéaire ajusté sur ces données. On peut alors montrer que le vecteur des prédictions $\\mathbf{\\hat{y}}$ s’exprime de la manière suivante : \n",
    "$$ \\mathbf{\\hat{y}} = \\mathbf{X} (\\mathbf{X}^T \\mathbf{X})^{-1} \\mathbf{X}^T \\mathbf{y} = \\mathbf{H} \\mathbf{y} $$\n",
    "où $\\mathbf{H}$ est appelée la Hat matrix car elle \"ajoute le chapeau\" à $\\mathbf{y}$."
   ]
  },
  {
   "cell_type": "markdown",
   "id": "9a4657ad",
   "metadata": {},
   "source": [
    "Il est possible de trouver le leverage score de la $j^{\\text{ème}}$ observation $\\mathbf{x}_j$ en prenant le $j$ème élément dans la diagonale de $\\mathbf{H}$."
   ]
  },
  {
   "cell_type": "markdown",
   "id": "1b4678a9",
   "metadata": {},
   "source": [
    "Nous allons maintenant essayer de comprendre de manière plus intuitive ce que représente ce leverage score."
   ]
  },
  {
   "cell_type": "markdown",
   "id": "f02e5347",
   "metadata": {},
   "source": [
    "<div class=\"alert alert-block alert-success\">\n",
    "\n",
    "Observez l’évolution du leverage score et du résidu associés à un point que vous ajoutez à votre dataset, en fonction de la position de ce dernier. Initialement situé en $(x_1, y) = (5, -50)$, le point doit se déplacer en ligne droite jusqu’à $(5, 50)$. Visualisez l’évolution de ces deux valeurs au cours de ce déplacement. (N'oubliez pas d'ajuster le modèle lorsque chaque point est ajouté)\n",
    "\n",
    "</div>"
   ]
  },
  {
   "cell_type": "code",
   "execution_count": null,
   "id": "3f3578a8",
   "metadata": {},
   "outputs": [],
   "source": []
  },
  {
   "cell_type": "markdown",
   "id": "fa58a6b9",
   "metadata": {},
   "source": [
    "<div class=\"alert alert-block alert-success\">\n",
    "\n",
    "Faites la même chose qu'au point précédent mais avec un point se déplaçant entre $(-50,500)$ et $(250,500)$.\n",
    "</div>"
   ]
  },
  {
   "cell_type": "code",
   "execution_count": null,
   "id": "047490cb",
   "metadata": {},
   "outputs": [],
   "source": []
  },
  {
   "cell_type": "markdown",
   "id": "95cf3b73",
   "metadata": {},
   "source": [
    "<div class=\"alert alert-block alert-success\">\n",
    "\n",
    "Qu'observez-vous aux deux points précédents ? En utilisant ces résultats, expliquez à quoi correspond la notion de leverage ainsi que sa possible utilité. Vous pouvez vous inspirez de diverses sources telles que le TP.\n",
    "\n",
    "</div>"
   ]
  },
  {
   "cell_type": "markdown",
   "id": "e461d7fe",
   "metadata": {},
   "source": [
    "> ..."
   ]
  },
  {
   "cell_type": "markdown",
   "id": "3b120190",
   "metadata": {},
   "source": [
    "<div class=\"alert alert-block alert-success\">\n",
    "\n",
    "Observez l'évolution du leverage score en fonction de la variable prédictive du dataset initial.\n",
    "\n",
    "</div>"
   ]
  },
  {
   "cell_type": "code",
   "execution_count": null,
   "id": "bad8c0d7",
   "metadata": {},
   "outputs": [],
   "source": []
  },
  {
   "cell_type": "markdown",
   "id": "3ed5a046",
   "metadata": {},
   "source": [
    "<div class=\"alert alert-block alert-success\">\n",
    "\n",
    "Que pensez-vous de la courbe ainsi obtenue ?\n",
    "</div>"
   ]
  },
  {
   "cell_type": "markdown",
   "id": "8a5dad7f",
   "metadata": {},
   "source": [
    "> ..."
   ]
  },
  {
   "cell_type": "markdown",
   "id": "13d4ca8e",
   "metadata": {},
   "source": [
    "# Régression logistique"
   ]
  },
  {
   "cell_type": "markdown",
   "id": "1d1cfd90",
   "metadata": {},
   "source": [
    "Nous allons désormais utiliser un modèle de régression logistique pour résoudre un problème de classification binaire : il nous faut prédire si l'étoile est une naine ou une géante. Ceci va se faire en utilisant  deux variables prédictives : \n",
    "- l'indice de couleur *B-v*,\n",
    "- la magnitude absolue *$Amag$*.\n",
    "\n",
    "Vous pouvez utiliser la classe LogisticRegression de scikit-learn pour cette partie du devoir."
   ]
  },
  {
   "cell_type": "markdown",
   "id": "1b9044a9",
   "metadata": {},
   "source": [
    "Pour rappel, un modèle de régression logistique estime la probabilité qu'une observation appartienne à une catégorie en appliquant une fonction sigmoïde sur le résultat d'une régression linéaire $$ P(Y = 1 \\mid \\mathbf{X} = \\mathbf{x} ; \\mathbf{\\theta}) = \\frac{\\exp(\\lambda(\\mathbf{x}))}{1 + \\exp(\\lambda(\\mathbf{x}))}$$ où $$\\lambda(\\mathbf{\\mathbf{x}}) = \\theta_0 + \\theta_1 x_1 + ... + \\theta_K x_K.$$ \n",
    "\n",
    "Dans la formule ci-dessus:\n",
    "- $x_k$ est la cristallisation de la $k^{\\text{ème}}$ variable prédictive,\n",
    "- $\\theta_0$ est l'intercept,\n",
    "- $\\theta_k$ est le $k^{\\text{ème}}$ coefficient de la régression.\n",
    "\n",
    "Pour prédire une classe spécifique, il suffit de définir un seuil (threshold) sur les probabilités. Dans scikit-learn, ce seuil est fixé à 0.5 par défaut. Plus précisément, dès que la probabilité prédite est supérieure à 0.5, l'observation est associée à la classe $Y = 1$ (l'étoile géante dans ce cas). Sinon, elle est associée à la classe $Y = 0$ (l'étoile naine).\n",
    "\n",
    "NB : Bien que cela ne soit pas requis dans cet exercice, il est courant en pratique d’ajuster ce seuil en fonction des spécificités du contexte. Par exemple, dans les applications biomédicales, les conséquences d’une erreur peuvent être coûteuses : détecter un cancer chez une personne en parfaite santé, par exemple. Dans de tels cas, il est pertinent de modifier le seuil pour minimiser le risque d’erreurs critiques."
   ]
  },
  {
   "cell_type": "markdown",
   "id": "b55fe083",
   "metadata": {},
   "source": [
    "<div class=\"alert alert-block alert-success\">\n",
    "\n",
    "Ajustez un modèle de régression logistique pour déterminer si une étoile est une naine ou une géante, en utilisant l’indice de couleur et la magnitude absolue. Évaluez ensuite le pourcentage de prédictions correctes (également appelé accuracy) sur les données utilisées pour l’ajustement.\n",
    "\n",
    "</div>\n"
   ]
  },
  {
   "cell_type": "code",
   "execution_count": null,
   "id": "c7cbf14c",
   "metadata": {},
   "outputs": [],
   "source": []
  },
  {
   "cell_type": "markdown",
   "id": "19589a5d",
   "metadata": {},
   "source": [
    "<div class=\"alert alert-block alert-success\">\n",
    "\n",
    "Affichez un nuage de points représentant les deux variables prédictives, avec une couleur indiquant la classe prédite par le modèle. Réalisez ensuite un second graphique où la couleur correspond à la classe réelle. Il vous est également demandé d'afficher les probabilités liées à ce modèle en utilisant *DecisionBoundaryDisplay* sur un autre graphe.\n",
    "\n",
    "</div>\n"
   ]
  },
  {
   "cell_type": "code",
   "execution_count": null,
   "id": "467f0279",
   "metadata": {},
   "outputs": [],
   "source": []
  },
  {
   "cell_type": "markdown",
   "id": "3f2ca169",
   "metadata": {},
   "source": [
    "<div class=\"alert alert-block alert-success\">\n",
    "\n",
    "Analysez cela. Votre modèle vous semble-t-il bon ? Ce modèle souffre-t-il de limitations ? Comment peut-on l'améliorer ?\n",
    "\n",
    "</div>"
   ]
  },
  {
   "cell_type": "markdown",
   "id": "d420c123",
   "metadata": {},
   "source": [
    "> ..."
   ]
  }
 ],
 "metadata": {
  "authors": [
   {
    "name": "Le staff de MATH0487-2"
   }
  ],
  "date": "Décembre 2023",
  "kernelspec": {
   "display_name": "RLenv",
   "language": "python",
   "name": "python3"
  },
  "language_info": {
   "codemirror_mode": {
    "name": "ipython",
    "version": 3
   },
   "file_extension": ".py",
   "mimetype": "text/x-python",
   "name": "python",
   "nbconvert_exporter": "python",
   "pygments_lexer": "ipython3",
   "version": "3.10.10"
  },
  "title": "Devoir 2 : Intervalles de confiance et régression"
 },
 "nbformat": 4,
 "nbformat_minor": 5
}
